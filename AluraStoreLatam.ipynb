{
  "nbformat": 4,
  "nbformat_minor": 0,
  "metadata": {
    "colab": {
      "provenance": [],
      "include_colab_link": true
    },
    "kernelspec": {
      "name": "python3",
      "display_name": "Python 3"
    },
    "language_info": {
      "name": "python"
    }
  },
  "cells": [
    {
      "cell_type": "markdown",
      "metadata": {
        "id": "view-in-github",
        "colab_type": "text"
      },
      "source": [
        "<a href=\"https://colab.research.google.com/github/emmanhok/challenge-alura-store/blob/main/AluraStoreLatam.ipynb\" target=\"_parent\"><img src=\"https://colab.research.google.com/assets/colab-badge.svg\" alt=\"Open In Colab\"/></a>"
      ]
    },
    {
      "cell_type": "markdown",
      "source": [
        "### Importación de datos\n",
        "\n"
      ],
      "metadata": {
        "id": "RhEdWd9YUR6H"
      }
    },
    {
      "cell_type": "code",
      "execution_count": 14,
      "metadata": {
        "colab": {
          "base_uri": "https://localhost:8080/",
          "height": 293
        },
        "id": "T3EvaeQ_INIL",
        "outputId": "89580df2-bb07-42dd-eea1-f3b4e3c669a9"
      },
      "outputs": [
        {
          "output_type": "execute_result",
          "data": {
            "text/plain": [
              "            Producto Categoría del Producto    Precio  Costo de envío  \\\n",
              "0  Asistente virtual           Electrónicos  164300.0          6900.0   \n",
              "1    Mesa de comedor                Muebles  192300.0          8400.0   \n",
              "2      Juego de mesa               Juguetes  209600.0         15900.0   \n",
              "3         Microondas      Electrodomésticos  757500.0         41000.0   \n",
              "4   Silla de oficina                Muebles  335200.0         20200.0   \n",
              "\n",
              "  Fecha de Compra         Vendedor Lugar de Compra  Calificación  \\\n",
              "0      16/01/2021      Pedro Gomez          Bogotá             4   \n",
              "1      18/05/2022  Beatriz Morales        Medellín             1   \n",
              "2      15/03/2021   Juan Fernandez       Cartagena             1   \n",
              "3      03/05/2022   Juan Fernandez            Cali             4   \n",
              "4      07/11/2020    Maria Alfonso        Medellín             5   \n",
              "\n",
              "       Método de pago  Cantidad de cuotas       lat       lon  \n",
              "0  Tarjeta de crédito                   8   4.60971 -74.08175  \n",
              "1  Tarjeta de crédito                   4   6.25184 -75.56359  \n",
              "2  Tarjeta de crédito                   1  10.39972 -75.51444  \n",
              "3               Nequi                   1   3.43722 -76.52250  \n",
              "4               Nequi                   1   6.25184 -75.56359  "
            ],
            "text/html": [
              "\n",
              "  <div id=\"df-9e8618a1-2a26-45be-b127-9d60e3d51057\" class=\"colab-df-container\">\n",
              "    <div>\n",
              "<style scoped>\n",
              "    .dataframe tbody tr th:only-of-type {\n",
              "        vertical-align: middle;\n",
              "    }\n",
              "\n",
              "    .dataframe tbody tr th {\n",
              "        vertical-align: top;\n",
              "    }\n",
              "\n",
              "    .dataframe thead th {\n",
              "        text-align: right;\n",
              "    }\n",
              "</style>\n",
              "<table border=\"1\" class=\"dataframe\">\n",
              "  <thead>\n",
              "    <tr style=\"text-align: right;\">\n",
              "      <th></th>\n",
              "      <th>Producto</th>\n",
              "      <th>Categoría del Producto</th>\n",
              "      <th>Precio</th>\n",
              "      <th>Costo de envío</th>\n",
              "      <th>Fecha de Compra</th>\n",
              "      <th>Vendedor</th>\n",
              "      <th>Lugar de Compra</th>\n",
              "      <th>Calificación</th>\n",
              "      <th>Método de pago</th>\n",
              "      <th>Cantidad de cuotas</th>\n",
              "      <th>lat</th>\n",
              "      <th>lon</th>\n",
              "    </tr>\n",
              "  </thead>\n",
              "  <tbody>\n",
              "    <tr>\n",
              "      <th>0</th>\n",
              "      <td>Asistente virtual</td>\n",
              "      <td>Electrónicos</td>\n",
              "      <td>164300.0</td>\n",
              "      <td>6900.0</td>\n",
              "      <td>16/01/2021</td>\n",
              "      <td>Pedro Gomez</td>\n",
              "      <td>Bogotá</td>\n",
              "      <td>4</td>\n",
              "      <td>Tarjeta de crédito</td>\n",
              "      <td>8</td>\n",
              "      <td>4.60971</td>\n",
              "      <td>-74.08175</td>\n",
              "    </tr>\n",
              "    <tr>\n",
              "      <th>1</th>\n",
              "      <td>Mesa de comedor</td>\n",
              "      <td>Muebles</td>\n",
              "      <td>192300.0</td>\n",
              "      <td>8400.0</td>\n",
              "      <td>18/05/2022</td>\n",
              "      <td>Beatriz Morales</td>\n",
              "      <td>Medellín</td>\n",
              "      <td>1</td>\n",
              "      <td>Tarjeta de crédito</td>\n",
              "      <td>4</td>\n",
              "      <td>6.25184</td>\n",
              "      <td>-75.56359</td>\n",
              "    </tr>\n",
              "    <tr>\n",
              "      <th>2</th>\n",
              "      <td>Juego de mesa</td>\n",
              "      <td>Juguetes</td>\n",
              "      <td>209600.0</td>\n",
              "      <td>15900.0</td>\n",
              "      <td>15/03/2021</td>\n",
              "      <td>Juan Fernandez</td>\n",
              "      <td>Cartagena</td>\n",
              "      <td>1</td>\n",
              "      <td>Tarjeta de crédito</td>\n",
              "      <td>1</td>\n",
              "      <td>10.39972</td>\n",
              "      <td>-75.51444</td>\n",
              "    </tr>\n",
              "    <tr>\n",
              "      <th>3</th>\n",
              "      <td>Microondas</td>\n",
              "      <td>Electrodomésticos</td>\n",
              "      <td>757500.0</td>\n",
              "      <td>41000.0</td>\n",
              "      <td>03/05/2022</td>\n",
              "      <td>Juan Fernandez</td>\n",
              "      <td>Cali</td>\n",
              "      <td>4</td>\n",
              "      <td>Nequi</td>\n",
              "      <td>1</td>\n",
              "      <td>3.43722</td>\n",
              "      <td>-76.52250</td>\n",
              "    </tr>\n",
              "    <tr>\n",
              "      <th>4</th>\n",
              "      <td>Silla de oficina</td>\n",
              "      <td>Muebles</td>\n",
              "      <td>335200.0</td>\n",
              "      <td>20200.0</td>\n",
              "      <td>07/11/2020</td>\n",
              "      <td>Maria Alfonso</td>\n",
              "      <td>Medellín</td>\n",
              "      <td>5</td>\n",
              "      <td>Nequi</td>\n",
              "      <td>1</td>\n",
              "      <td>6.25184</td>\n",
              "      <td>-75.56359</td>\n",
              "    </tr>\n",
              "  </tbody>\n",
              "</table>\n",
              "</div>\n",
              "    <div class=\"colab-df-buttons\">\n",
              "\n",
              "  <div class=\"colab-df-container\">\n",
              "    <button class=\"colab-df-convert\" onclick=\"convertToInteractive('df-9e8618a1-2a26-45be-b127-9d60e3d51057')\"\n",
              "            title=\"Convert this dataframe to an interactive table.\"\n",
              "            style=\"display:none;\">\n",
              "\n",
              "  <svg xmlns=\"http://www.w3.org/2000/svg\" height=\"24px\" viewBox=\"0 -960 960 960\">\n",
              "    <path d=\"M120-120v-720h720v720H120Zm60-500h600v-160H180v160Zm220 220h160v-160H400v160Zm0 220h160v-160H400v160ZM180-400h160v-160H180v160Zm440 0h160v-160H620v160ZM180-180h160v-160H180v160Zm440 0h160v-160H620v160Z\"/>\n",
              "  </svg>\n",
              "    </button>\n",
              "\n",
              "  <style>\n",
              "    .colab-df-container {\n",
              "      display:flex;\n",
              "      gap: 12px;\n",
              "    }\n",
              "\n",
              "    .colab-df-convert {\n",
              "      background-color: #E8F0FE;\n",
              "      border: none;\n",
              "      border-radius: 50%;\n",
              "      cursor: pointer;\n",
              "      display: none;\n",
              "      fill: #1967D2;\n",
              "      height: 32px;\n",
              "      padding: 0 0 0 0;\n",
              "      width: 32px;\n",
              "    }\n",
              "\n",
              "    .colab-df-convert:hover {\n",
              "      background-color: #E2EBFA;\n",
              "      box-shadow: 0px 1px 2px rgba(60, 64, 67, 0.3), 0px 1px 3px 1px rgba(60, 64, 67, 0.15);\n",
              "      fill: #174EA6;\n",
              "    }\n",
              "\n",
              "    .colab-df-buttons div {\n",
              "      margin-bottom: 4px;\n",
              "    }\n",
              "\n",
              "    [theme=dark] .colab-df-convert {\n",
              "      background-color: #3B4455;\n",
              "      fill: #D2E3FC;\n",
              "    }\n",
              "\n",
              "    [theme=dark] .colab-df-convert:hover {\n",
              "      background-color: #434B5C;\n",
              "      box-shadow: 0px 1px 3px 1px rgba(0, 0, 0, 0.15);\n",
              "      filter: drop-shadow(0px 1px 2px rgba(0, 0, 0, 0.3));\n",
              "      fill: #FFFFFF;\n",
              "    }\n",
              "  </style>\n",
              "\n",
              "    <script>\n",
              "      const buttonEl =\n",
              "        document.querySelector('#df-9e8618a1-2a26-45be-b127-9d60e3d51057 button.colab-df-convert');\n",
              "      buttonEl.style.display =\n",
              "        google.colab.kernel.accessAllowed ? 'block' : 'none';\n",
              "\n",
              "      async function convertToInteractive(key) {\n",
              "        const element = document.querySelector('#df-9e8618a1-2a26-45be-b127-9d60e3d51057');\n",
              "        const dataTable =\n",
              "          await google.colab.kernel.invokeFunction('convertToInteractive',\n",
              "                                                    [key], {});\n",
              "        if (!dataTable) return;\n",
              "\n",
              "        const docLinkHtml = 'Like what you see? Visit the ' +\n",
              "          '<a target=\"_blank\" href=https://colab.research.google.com/notebooks/data_table.ipynb>data table notebook</a>'\n",
              "          + ' to learn more about interactive tables.';\n",
              "        element.innerHTML = '';\n",
              "        dataTable['output_type'] = 'display_data';\n",
              "        await google.colab.output.renderOutput(dataTable, element);\n",
              "        const docLink = document.createElement('div');\n",
              "        docLink.innerHTML = docLinkHtml;\n",
              "        element.appendChild(docLink);\n",
              "      }\n",
              "    </script>\n",
              "  </div>\n",
              "\n",
              "\n",
              "    <div id=\"df-9fecbd94-f96d-4e12-bcfc-fc1f010c2c88\">\n",
              "      <button class=\"colab-df-quickchart\" onclick=\"quickchart('df-9fecbd94-f96d-4e12-bcfc-fc1f010c2c88')\"\n",
              "                title=\"Suggest charts\"\n",
              "                style=\"display:none;\">\n",
              "\n",
              "<svg xmlns=\"http://www.w3.org/2000/svg\" height=\"24px\"viewBox=\"0 0 24 24\"\n",
              "     width=\"24px\">\n",
              "    <g>\n",
              "        <path d=\"M19 3H5c-1.1 0-2 .9-2 2v14c0 1.1.9 2 2 2h14c1.1 0 2-.9 2-2V5c0-1.1-.9-2-2-2zM9 17H7v-7h2v7zm4 0h-2V7h2v10zm4 0h-2v-4h2v4z\"/>\n",
              "    </g>\n",
              "</svg>\n",
              "      </button>\n",
              "\n",
              "<style>\n",
              "  .colab-df-quickchart {\n",
              "      --bg-color: #E8F0FE;\n",
              "      --fill-color: #1967D2;\n",
              "      --hover-bg-color: #E2EBFA;\n",
              "      --hover-fill-color: #174EA6;\n",
              "      --disabled-fill-color: #AAA;\n",
              "      --disabled-bg-color: #DDD;\n",
              "  }\n",
              "\n",
              "  [theme=dark] .colab-df-quickchart {\n",
              "      --bg-color: #3B4455;\n",
              "      --fill-color: #D2E3FC;\n",
              "      --hover-bg-color: #434B5C;\n",
              "      --hover-fill-color: #FFFFFF;\n",
              "      --disabled-bg-color: #3B4455;\n",
              "      --disabled-fill-color: #666;\n",
              "  }\n",
              "\n",
              "  .colab-df-quickchart {\n",
              "    background-color: var(--bg-color);\n",
              "    border: none;\n",
              "    border-radius: 50%;\n",
              "    cursor: pointer;\n",
              "    display: none;\n",
              "    fill: var(--fill-color);\n",
              "    height: 32px;\n",
              "    padding: 0;\n",
              "    width: 32px;\n",
              "  }\n",
              "\n",
              "  .colab-df-quickchart:hover {\n",
              "    background-color: var(--hover-bg-color);\n",
              "    box-shadow: 0 1px 2px rgba(60, 64, 67, 0.3), 0 1px 3px 1px rgba(60, 64, 67, 0.15);\n",
              "    fill: var(--button-hover-fill-color);\n",
              "  }\n",
              "\n",
              "  .colab-df-quickchart-complete:disabled,\n",
              "  .colab-df-quickchart-complete:disabled:hover {\n",
              "    background-color: var(--disabled-bg-color);\n",
              "    fill: var(--disabled-fill-color);\n",
              "    box-shadow: none;\n",
              "  }\n",
              "\n",
              "  .colab-df-spinner {\n",
              "    border: 2px solid var(--fill-color);\n",
              "    border-color: transparent;\n",
              "    border-bottom-color: var(--fill-color);\n",
              "    animation:\n",
              "      spin 1s steps(1) infinite;\n",
              "  }\n",
              "\n",
              "  @keyframes spin {\n",
              "    0% {\n",
              "      border-color: transparent;\n",
              "      border-bottom-color: var(--fill-color);\n",
              "      border-left-color: var(--fill-color);\n",
              "    }\n",
              "    20% {\n",
              "      border-color: transparent;\n",
              "      border-left-color: var(--fill-color);\n",
              "      border-top-color: var(--fill-color);\n",
              "    }\n",
              "    30% {\n",
              "      border-color: transparent;\n",
              "      border-left-color: var(--fill-color);\n",
              "      border-top-color: var(--fill-color);\n",
              "      border-right-color: var(--fill-color);\n",
              "    }\n",
              "    40% {\n",
              "      border-color: transparent;\n",
              "      border-right-color: var(--fill-color);\n",
              "      border-top-color: var(--fill-color);\n",
              "    }\n",
              "    60% {\n",
              "      border-color: transparent;\n",
              "      border-right-color: var(--fill-color);\n",
              "    }\n",
              "    80% {\n",
              "      border-color: transparent;\n",
              "      border-right-color: var(--fill-color);\n",
              "      border-bottom-color: var(--fill-color);\n",
              "    }\n",
              "    90% {\n",
              "      border-color: transparent;\n",
              "      border-bottom-color: var(--fill-color);\n",
              "    }\n",
              "  }\n",
              "</style>\n",
              "\n",
              "      <script>\n",
              "        async function quickchart(key) {\n",
              "          const quickchartButtonEl =\n",
              "            document.querySelector('#' + key + ' button');\n",
              "          quickchartButtonEl.disabled = true;  // To prevent multiple clicks.\n",
              "          quickchartButtonEl.classList.add('colab-df-spinner');\n",
              "          try {\n",
              "            const charts = await google.colab.kernel.invokeFunction(\n",
              "                'suggestCharts', [key], {});\n",
              "          } catch (error) {\n",
              "            console.error('Error during call to suggestCharts:', error);\n",
              "          }\n",
              "          quickchartButtonEl.classList.remove('colab-df-spinner');\n",
              "          quickchartButtonEl.classList.add('colab-df-quickchart-complete');\n",
              "        }\n",
              "        (() => {\n",
              "          let quickchartButtonEl =\n",
              "            document.querySelector('#df-9fecbd94-f96d-4e12-bcfc-fc1f010c2c88 button');\n",
              "          quickchartButtonEl.style.display =\n",
              "            google.colab.kernel.accessAllowed ? 'block' : 'none';\n",
              "        })();\n",
              "      </script>\n",
              "    </div>\n",
              "\n",
              "    </div>\n",
              "  </div>\n"
            ],
            "application/vnd.google.colaboratory.intrinsic+json": {
              "type": "dataframe",
              "variable_name": "tienda",
              "summary": "{\n  \"name\": \"tienda\",\n  \"rows\": 2359,\n  \"fields\": [\n    {\n      \"column\": \"Producto\",\n      \"properties\": {\n        \"dtype\": \"category\",\n        \"num_unique_values\": 51,\n        \"samples\": [\n          \"Guitarra ac\\u00fastica\",\n          \"Bal\\u00f3n de baloncesto\",\n          \"Smartwatch\"\n        ],\n        \"semantic_type\": \"\",\n        \"description\": \"\"\n      }\n    },\n    {\n      \"column\": \"Categor\\u00eda del Producto\",\n      \"properties\": {\n        \"dtype\": \"category\",\n        \"num_unique_values\": 8,\n        \"samples\": [\n          \"Muebles\",\n          \"Deportes y diversi\\u00f3n\",\n          \"Electr\\u00f3nicos\"\n        ],\n        \"semantic_type\": \"\",\n        \"description\": \"\"\n      }\n    },\n    {\n      \"column\": \"Precio\",\n      \"properties\": {\n        \"dtype\": \"number\",\n        \"std\": 614686.7653873172,\n        \"min\": 7600.0,\n        \"max\": 2977000.0,\n        \"num_unique_values\": 1937,\n        \"samples\": [\n          2499400.0,\n          14800.0,\n          80500.0\n        ],\n        \"semantic_type\": \"\",\n        \"description\": \"\"\n      }\n    },\n    {\n      \"column\": \"Costo de env\\u00edo\",\n      \"properties\": {\n        \"dtype\": \"number\",\n        \"std\": 32860.0017825605,\n        \"min\": 0.0,\n        \"max\": 160800.0,\n        \"num_unique_values\": 753,\n        \"samples\": [\n          117800.0,\n          54700.0,\n          45600.0\n        ],\n        \"semantic_type\": \"\",\n        \"description\": \"\"\n      }\n    },\n    {\n      \"column\": \"Fecha de Compra\",\n      \"properties\": {\n        \"dtype\": \"object\",\n        \"num_unique_values\": 1018,\n        \"samples\": [\n          \"15/09/2022\",\n          \"03/06/2020\",\n          \"06/11/2021\"\n        ],\n        \"semantic_type\": \"\",\n        \"description\": \"\"\n      }\n    },\n    {\n      \"column\": \"Vendedor\",\n      \"properties\": {\n        \"dtype\": \"category\",\n        \"num_unique_values\": 14,\n        \"samples\": [\n          \"Juliana Costa\",\n          \"Mariana Herrera\",\n          \"Pedro Gomez\"\n        ],\n        \"semantic_type\": \"\",\n        \"description\": \"\"\n      }\n    },\n    {\n      \"column\": \"Lugar de Compra\",\n      \"properties\": {\n        \"dtype\": \"category\",\n        \"num_unique_values\": 19,\n        \"samples\": [\n          \"Bogot\\u00e1\",\n          \"Pereira\",\n          \"Neiva\"\n        ],\n        \"semantic_type\": \"\",\n        \"description\": \"\"\n      }\n    },\n    {\n      \"column\": \"Calificaci\\u00f3n\",\n      \"properties\": {\n        \"dtype\": \"number\",\n        \"std\": 1,\n        \"min\": 1,\n        \"max\": 5,\n        \"num_unique_values\": 5,\n        \"samples\": [\n          1,\n          2,\n          5\n        ],\n        \"semantic_type\": \"\",\n        \"description\": \"\"\n      }\n    },\n    {\n      \"column\": \"M\\u00e9todo de pago\",\n      \"properties\": {\n        \"dtype\": \"category\",\n        \"num_unique_values\": 4,\n        \"samples\": [\n          \"Nequi\",\n          \"Tarjeta de d\\u00e9bito\",\n          \"Tarjeta de cr\\u00e9dito\"\n        ],\n        \"semantic_type\": \"\",\n        \"description\": \"\"\n      }\n    },\n    {\n      \"column\": \"Cantidad de cuotas\",\n      \"properties\": {\n        \"dtype\": \"number\",\n        \"std\": 2,\n        \"min\": 1,\n        \"max\": 24,\n        \"num_unique_values\": 15,\n        \"samples\": [\n          7,\n          14,\n          8\n        ],\n        \"semantic_type\": \"\",\n        \"description\": \"\"\n      }\n    },\n    {\n      \"column\": \"lat\",\n      \"properties\": {\n        \"dtype\": \"number\",\n        \"std\": 2.2874452492678627,\n        \"min\": -4.21528,\n        \"max\": 11.54444,\n        \"num_unique_values\": 19,\n        \"samples\": [\n          4.60971,\n          4.81333,\n          2.9273\n        ],\n        \"semantic_type\": \"\",\n        \"description\": \"\"\n      }\n    },\n    {\n      \"column\": \"lon\",\n      \"properties\": {\n        \"dtype\": \"number\",\n        \"std\": 1.2178272727088486,\n        \"min\": -77.28111,\n        \"max\": -67.9239,\n        \"num_unique_values\": 19,\n        \"samples\": [\n          -74.08175,\n          -75.69611,\n          -75.28189\n        ],\n        \"semantic_type\": \"\",\n        \"description\": \"\"\n      }\n    }\n  ]\n}"
            }
          },
          "metadata": {},
          "execution_count": 14
        }
      ],
      "source": [
        "import pandas as pd\n",
        "\n",
        "url = \"https://raw.githubusercontent.com/alura-es-cursos/challenge1-data-science-latam/refs/heads/main/base-de-datos-challenge1-latam/tienda_1%20.csv\"\n",
        "url2 = \"https://raw.githubusercontent.com/alura-es-cursos/challenge1-data-science-latam/refs/heads/main/base-de-datos-challenge1-latam/tienda_2.csv\"\n",
        "url3 = \"https://raw.githubusercontent.com/alura-es-cursos/challenge1-data-science-latam/refs/heads/main/base-de-datos-challenge1-latam/tienda_3.csv\"\n",
        "url4 = \"https://raw.githubusercontent.com/alura-es-cursos/challenge1-data-science-latam/refs/heads/main/base-de-datos-challenge1-latam/tienda_4.csv\"\n",
        "\n",
        "tienda = pd.read_csv(url)\n",
        "tienda2 = pd.read_csv(url2)\n",
        "tienda3 = pd.read_csv(url3)\n",
        "tienda4 = pd.read_csv(url4)\n",
        "\n",
        "tienda.head()"
      ]
    },
    {
      "cell_type": "markdown",
      "source": [
        "#1. Análisis de facturación\n",
        "\n"
      ],
      "metadata": {
        "id": "X62IW3KFUIYm"
      }
    },
    {
      "cell_type": "code",
      "source": [
        "# Aquí estuve investigando sobre cómo obtener los datos de una determinada columna\n",
        "#tienda['Precio']\n",
        "# Una vez he investigado ello, probé la forma de obtener la suma de todos los precios a través de la función integrada sum()\n",
        "# Cálculos del ingreso total de cada tienda\n",
        "ingreso_total_tienda = sum(tienda['Precio'])\n",
        "print(f'El ingreso total de la tienda 1 es: {ingreso_total_tienda}')\n",
        "ingreso_total_tienda2 = sum(tienda2['Precio'])\n",
        "print(f'El ingreso total de la tienda 2 es: {ingreso_total_tienda2}')\n",
        "ingreso_total_tienda3 = sum(tienda3['Precio'])\n",
        "print(f'El ingreso total de la tienda 3 es: {ingreso_total_tienda3}')\n",
        "ingreso_total_tienda4 = sum(tienda4['Precio'])\n",
        "print(f'El ingreso total de la tienda 4 es: {ingreso_total_tienda4}')\n"
      ],
      "metadata": {
        "id": "KDyr8E71V3m-",
        "colab": {
          "base_uri": "https://localhost:8080/"
        },
        "outputId": "aa6213a9-e0e8-4c10-91d4-f8cee21ce55a"
      },
      "execution_count": null,
      "outputs": [
        {
          "output_type": "stream",
          "name": "stdout",
          "text": [
            "El ingreso total de la tienda 1 es: 1150880400.0\n",
            "El ingreso total de la tienda 2 es: 1116343500.0\n",
            "El ingreso total de la tienda 3 es: 1098019600.0\n",
            "El ingreso total de la tienda 4 es: 1038375700.0\n"
          ]
        }
      ]
    },
    {
      "cell_type": "markdown",
      "source": [
        "# 2. Ventas por categoría"
      ],
      "metadata": {
        "id": "2V_vcAPzWZmR"
      }
    },
    {
      "cell_type": "code",
      "source": [
        "# En un primer momento realizo esto para probar si entiendo la lógica de cómo acceder a las categorías y poder contar la cantidad de ventas en ellas\n",
        "#def contador_categoria_electronicos(tienda):\n",
        "#  contador = 0\n",
        "#  for i in range(len(tienda['Categoría del Producto'])):\n",
        "#    if tienda['Categoría del Producto'].iloc[i] == 'Electrónicos':\n",
        "#      contador += 1\n",
        "#  return contador\n",
        "#contador_categoria_electronicos(tienda)  # Aqui solo comprobaba que me diera el resultado esperado tel total de ventas de categoria electronicos de la p1rimera tienda\n"
      ],
      "metadata": {
        "id": "V6a5HY5DbwiS"
      },
      "execution_count": null,
      "outputs": []
    },
    {
      "cell_type": "code",
      "source": [
        "# Una vez entendi el acceso a las categoria procedere a realizar un codigo que me permita\n",
        "# automatizar el conteo de ventas de diversas categorias para aplicarlo a cada tienda"
      ],
      "metadata": {
        "id": "A34YupIuYhfF"
      },
      "execution_count": null,
      "outputs": []
    },
    {
      "cell_type": "code",
      "source": [
        "# Primero crearé un diccionario para poder iterar más facilmente las categorias en las diversas tiendas\n",
        "tiendas = {\n",
        "    'Tienda 1': tienda,\n",
        "    'Tienda 2': tienda2,\n",
        "    'Tienda 3': tienda3,\n",
        "    'Tienda 4': tienda4\n",
        "}"
      ],
      "metadata": {
        "id": "yZR6cOjXYSk1"
      },
      "execution_count": 15,
      "outputs": []
    },
    {
      "cell_type": "code",
      "source": [
        "# Funcion para obtener la cantidad de categorías y la sumatoria de los valores de ventas de cada una de ellas de las 4 tiendas\n",
        "def ventas_por_categoria(df): # Con df me refiero a los DataFrame de cada tienda\n",
        "  ingresos_por_categoria = {} # Creo un diccionario para almacenar la suma de ingresos por categoría\n",
        "  # Utilizo un ciclo for para acceder a 'Categorías del Producto' y a 'Precio'\n",
        "  for i in range(len(df)):\n",
        "    categoria = df['Categoría del Producto'].iloc[i] # Aqui obtengo la categoría actual [i]\n",
        "    precio = df['Precio'].iloc[i] # Aqui obtengo el precio actual [i]\n",
        "    # Si la categoría ya está en el diccionario, sumo el precio al total existente.\n",
        "    if categoria in ingresos_por_categoria:\n",
        "      ingresos_por_categoria[categoria] += precio # Voy sumando el precio del producto de la categoría\n",
        "    else:\n",
        "      ingresos_por_categoria[categoria] = precio\n",
        "  return ingresos_por_categoria"
      ],
      "metadata": {
        "id": "-BtE1j7Tzcg_"
      },
      "execution_count": null,
      "outputs": []
    },
    {
      "cell_type": "code",
      "source": [
        "# A continuación imprimo a modo de títulos lo siguiente:\n",
        "print('Ventas por categoría de cada tienda en orden de más a menos populares:\\n')\n",
        "# Con un ciclo for ire iterando sobre los items del diccionario tiendas creado mas arriba\n",
        "# en cada tienda y cada df de ellas segun la funcion anterior\n",
        "for nombre_tienda, df_tienda in tiendas.items():\n",
        "  print(f'{nombre_tienda}:')\n",
        "  # Llamo a la función para calcular los ingresos por ventas de cada categoría\n",
        "  ingresos_por_categoria = ventas_por_categoria(df_tienda)\n",
        "  # Ordenamiento de las categorías por ingresos (de mayor a menor)\n",
        "  ordenamiento_ingresos_categorias = sorted(ingresos_por_categoria.items(), key=lambda item: item[1], reverse=True)\n",
        "  # Impresión de la lista de tuplas obtenidas a traces de un ciclo for\n",
        "  for categoria, ingresos in ordenamiento_ingresos_categorias:\n",
        "    print(f'  {categoria}: ${ingresos:.2f}')\n",
        "  print('\\n') # Salto de línea para separar la salida de cada tienda"
      ],
      "metadata": {
        "colab": {
          "base_uri": "https://localhost:8080/"
        },
        "id": "kko-SVISzemi",
        "outputId": "e28195a6-72da-459a-ad18-56fcdae146fa"
      },
      "execution_count": null,
      "outputs": [
        {
          "output_type": "stream",
          "name": "stdout",
          "text": [
            "Ventas por categoría de cada tienda en orden de más a menos populares:\n",
            "\n",
            "Tienda 1:\n",
            "  Electrónicos: $429493500.00\n",
            "  Electrodomésticos: $363685200.00\n",
            "  Muebles: $187633700.00\n",
            "  Instrumentos musicales: $91299000.00\n",
            "  Deportes y diversión: $39290000.00\n",
            "  Juguetes: $17995700.00\n",
            "  Artículos para el hogar: $12698400.00\n",
            "  Libros: $8784900.00\n",
            "\n",
            "\n",
            "Tienda 2:\n",
            "  Electrónicos: $410831100.00\n",
            "  Electrodomésticos: $348567800.00\n",
            "  Muebles: $176426300.00\n",
            "  Instrumentos musicales: $104990300.00\n",
            "  Deportes y diversión: $34744500.00\n",
            "  Juguetes: $15945400.00\n",
            "  Artículos para el hogar: $14746900.00\n",
            "  Libros: $10091200.00\n",
            "\n",
            "\n",
            "Tienda 3:\n",
            "  Electrónicos: $410775800.00\n",
            "  Electrodomésticos: $329237900.00\n",
            "  Muebles: $201072100.00\n",
            "  Instrumentos musicales: $77380900.00\n",
            "  Deportes y diversión: $35593100.00\n",
            "  Juguetes: $19401100.00\n",
            "  Artículos para el hogar: $15060000.00\n",
            "  Libros: $9498700.00\n",
            "\n",
            "\n",
            "Tienda 4:\n",
            "  Electrónicos: $409476100.00\n",
            "  Electrodomésticos: $283260200.00\n",
            "  Muebles: $192528900.00\n",
            "  Instrumentos musicales: $75102400.00\n",
            "  Deportes y diversión: $33350100.00\n",
            "  Juguetes: $20262200.00\n",
            "  Artículos para el hogar: $15074500.00\n",
            "  Libros: $9321300.00\n",
            "\n",
            "\n"
          ]
        }
      ]
    },
    {
      "cell_type": "markdown",
      "source": [
        "# 3. Calificación promedio de la tienda\n"
      ],
      "metadata": {
        "id": "Rq6tU_xSY3jk"
      }
    },
    {
      "cell_type": "code",
      "source": [
        "# Funcion para calcular el promedio de calificacion de cada tienda"
      ],
      "metadata": {
        "id": "bh3jjjJwY5MU"
      },
      "execution_count": null,
      "outputs": []
    },
    {
      "cell_type": "code",
      "source": [
        "def calcular_promedio_calificacion(df):\n",
        "  suma_de_calificaciones = 0\n",
        "  conteo_de_calificaciones = 0\n",
        "  # Ciclo for para recorrer las calificaciones sumandolas y aumentando contador para realizar la division luego\n",
        "  for i in range(len(df['Calificación'])):\n",
        "    calificacion = df['Calificación'].iloc[i]\n",
        "\n",
        "    suma_de_calificaciones += calificacion\n",
        "    conteo_de_calificaciones += 1\n",
        "  # Bloque try-except por si hay un error al dividir por 0 que no es viable\n",
        "  try:\n",
        "    media = suma_de_calificaciones / conteo_de_calificaciones\n",
        "  except ZeroDivisionError:\n",
        "    print(f'No se puede dividir por 0.\\n Error: {e}')\n",
        "    media = 0\n",
        "  return media"
      ],
      "metadata": {
        "id": "I0KkjPoTY88F"
      },
      "execution_count": null,
      "outputs": []
    },
    {
      "cell_type": "code",
      "source": [
        "# Llamado a la funcion para calcular el promedio de calificaciones"
      ],
      "metadata": {
        "id": "1mSkaLQi-tas"
      },
      "execution_count": null,
      "outputs": []
    },
    {
      "cell_type": "code",
      "source": [
        "print('Calificaciones promedio de cada tienda:\\n')\n",
        "for nombre_tienda, df_tienda in tiendas.items():\n",
        "  promedio_calificacion = calcular_promedio_calificacion(df_tienda)\n",
        "  print(f'La valoración media de la {nombre_tienda} es: {promedio_calificacion:.2f}\\n')"
      ],
      "metadata": {
        "colab": {
          "base_uri": "https://localhost:8080/"
        },
        "id": "W4mPKpet-xPp",
        "outputId": "3ff8b662-6559-472c-f9e1-613f8ffed1a0"
      },
      "execution_count": null,
      "outputs": [
        {
          "output_type": "stream",
          "name": "stdout",
          "text": [
            "Calificaciones promedio de cada tienda:\n",
            "\n",
            "La valoración media de la Tienda 1 es: 3.98\n",
            "\n",
            "La valoración media de la Tienda 2 es: 4.04\n",
            "\n",
            "La valoración media de la Tienda 3 es: 4.05\n",
            "\n",
            "La valoración media de la Tienda 4 es: 4.00\n",
            "\n"
          ]
        }
      ]
    },
    {
      "cell_type": "code",
      "source": [
        "  # Para garantizar la precisión de mis cálculos de promediar calificaciones, especialmente al trabajar con DataFrames grandes donde no es práctico revisar cada fila\n",
        "  # manualmente, investigué y apliqué una técnica de depuración de código.\n",
        "  # Esto me permitió observar el flujo de la función calcular_promedio_calificacion paso a paso,\n",
        "  # verificando la suma y el conteo de las calificaciones en cada etapa,\n",
        "  # hasta confirmar que procesaba correctamente todas las entradas.\n",
        "  # Aqui presento la utilizacion de DEBUG para confirmar los resultados de forma correcta\n",
        "\n",
        "  #def calcular_promedio_calificacion(df):\n",
        "  #  suma_de_calificaciones = 0\n",
        "  #  conteo_de_calificaciones = 0\n",
        "\n",
        "    # Depuración 1: Antes del bucle\n",
        "  #  print(f\"DEBUG: Iniciando cálculo de media. DataFrame tiene {len(df)} filas.\")\n",
        "  #  print(f\"DEBUG: Columnas disponibles: {df.columns.tolist()}\") # Para verificar que 'Calificación' existe\n",
        "\n",
        "    # Ciclo for para recorrer las calificaciones sumandolas y aumentando contador para realizar la division luego\n",
        "  #  for i in range(len(df['Calificación'])):\n",
        "  #    calificacion = df['Calificación'].iloc[i]\n",
        "\n",
        "      # Depuración 2: Dentro del bucle\n",
        "          # print(f\"DEBUG: Fila {i}: Calificación = {calificacion}\") # Me permite ver si el bucle for está realmente iterando y procesando cada fila individualmente.\n",
        "\n",
        "  #    suma_de_calificaciones += calificacion\n",
        "  #    conteo_de_calificaciones += 1\n",
        "\n",
        "    # Depuración 3: Después del bucle, antes del cálculo final (Validación de Agregación)\n",
        "  #  print(f\"DEBUG: Bucle terminado. Suma total de calificaciones: {suma_de_calificaciones}\")\n",
        "  #  print(f\"DEBUG: Conteo total de calificaciones procesadas: {conteo_de_calificaciones}\")\n",
        "\n",
        "    # Bloque try-except por si hay un error al dividir por 0 que no es viable\n",
        "  #  try:\n",
        "  #    media = suma_de_calificaciones / conteo_de_calificaciones\n",
        "  #  except ZeroDivisionError:\n",
        "  #    print(f'No se puede dividir por 0.\\n Error: {e}')\n",
        "  #    media = 0\n",
        "\n",
        "  #  print(f\"DEBUG: Función finalizada. Retornando media: {media}\") # Debugging del valor de retorno\n",
        "\n",
        "  #  return media"
      ],
      "metadata": {
        "id": "1Z-CBj7GKhV0"
      },
      "execution_count": null,
      "outputs": []
    },
    {
      "cell_type": "markdown",
      "source": [
        "# 4. Productos más y menos vendidos"
      ],
      "metadata": {
        "id": "DmNp1KPBZCm-"
      }
    },
    {
      "cell_type": "code",
      "source": [
        "# Productos más y menos vendidos por tienda\n",
        "# Creo un DataFrame para cada tienda con los datos de productos vendidos\n",
        "urls = [url, url2, url3, url4]"
      ],
      "metadata": {
        "id": "flEzWUjbimUG"
      },
      "execution_count": null,
      "outputs": []
    },
    {
      "cell_type": "code",
      "source": [
        "# Uno todos los datos en un único DataFrame para un análisis comparativo y por tienda\n",
        "dfs = []\n",
        "for i, url in enumerate(urls):\n",
        "    try:\n",
        "        df = pd.read_csv(url)\n",
        "        # Asigno el nombre de la tienda para poder agrupar por ella más tarde\n",
        "        df['Tienda'] = f\"Tienda {i+1}\"\n",
        "        dfs.append(df)\n",
        "    except Exception as e:\n",
        "        print(f\"Error al leer {url}: {e}\") # En caso de error, podríamos saltar esta URL o manejarlo de otra forma.\n",
        "# Concateno todos los DataFrames en uno solo\n",
        "df_total = pd.concat(dfs, ignore_index=True)\n",
        "\n",
        "# Aseguro que las columnas numéricas tengan el tipo de dato correcto\n",
        "df_total['Precio'] = df_total['Precio'].astype(float)\n",
        "df_total['Cantidad de cuotas'] = df_total['Cantidad de cuotas'].astype(int)"
      ],
      "metadata": {
        "id": "Yegs9U622XaY"
      },
      "execution_count": null,
      "outputs": []
    },
    {
      "cell_type": "code",
      "source": [
        "# A continuacion calculo los ingresos totales y la cantidad de unidades vendidas por producto y tienda\n",
        "# Agrupo por Tienda y Producto para obtener la suma de ingresos y la cuenta de unidades\n",
        "productos_resumen = df_total.groupby(['Tienda', 'Producto']).agg( # Uso .agg() para aplicar múltiples funciones de agregación\n",
        "    total_ingresos=('Precio', 'sum'),  # Calculo la suma del 'Precio'\n",
        "    unidades_vendidas=('Producto', 'size') # Cuento el número de ocurrencias del 'Producto'\n",
        "    ).reset_index() # Resetea el índice para que 'Tienda' y 'Producto' vuelvan a ser columnas"
      ],
      "metadata": {
        "id": "hjdG_4ov2af8"
      },
      "execution_count": null,
      "outputs": []
    },
    {
      "cell_type": "code",
      "source": [
        "# Función para mostrar los top 3 de mas y menos vendidos\n",
        "def imprimir_top_productos(df_resumen, numero_de_productos=3):\n",
        "\n",
        "    # Obtengo una lista única de tiendas para iterar\n",
        "    tiendas_unicas = df_resumen['Tienda'].unique()\n",
        "\n",
        "    print(\"Análisis de ventas de productos mas y menos vendidos por tienda\")\n",
        "    # Itero sobre cada tienda para mostrar los productos más y menos vendidos\n",
        "    for tienda_actual in tiendas_unicas:\n",
        "        print(f\"\\n{tienda_actual}: \")\n",
        "\n",
        "        # Filtro los datos de la tienda actual\n",
        "        data_tienda = df_resumen[df_resumen['Tienda'] == tienda_actual].copy() # Uso .copy() para evitar el SettingWithCopyWarning de Pandas\n",
        "\n",
        "        # Ordeno por ingresos totales para obtener los más vendidos\n",
        "        mas_vendidos = data_tienda.sort_values(by='total_ingresos', ascending=False).head(numero_de_productos)\n",
        "\n",
        "        # Ordeno por ingresos para obtener los menos vendidos\n",
        "        menos_vendidos = data_tienda.sort_values(by='total_ingresos', ascending=True).head(numero_de_productos)\n",
        "\n",
        "        # Muestro los productos que más ingresos generaron\n",
        "        print(f\"\\n TOP de los {numero_de_productos} productos que dieron más ingresos:\")\n",
        "        for _, row in mas_vendidos.iterrows():\n",
        "            print(f\"  - {row['Producto']}: ${row['total_ingresos']:.2f} (Unidades: {int(row['unidades_vendidas'])})\")\n",
        "\n",
        "        # Muestro los productos que menos ingresos generaron\n",
        "        print(f\"\\n TOP de los {numero_de_productos} productos que dieron menos ingresos:\")\n",
        "        for _, row in menos_vendidos.iterrows():\n",
        "            print(f\"  - {row['Producto']}: ${row['total_ingresos']:.2f} (Unidades: {int(row['unidades_vendidas'])})\")\n",
        "        print(' ')\n",
        "        print('-' * 50) # Separador entre tiendas"
      ],
      "metadata": {
        "id": "werImy0v2c01"
      },
      "execution_count": null,
      "outputs": []
    },
    {
      "cell_type": "code",
      "source": [
        "# Llamo a la función para mostrar los resultados\n",
        "imprimir_top_productos(productos_resumen, numero_de_productos=3)"
      ],
      "metadata": {
        "colab": {
          "base_uri": "https://localhost:8080/"
        },
        "id": "9RKpupqv2iR2",
        "outputId": "415234af-8a9d-4449-a893-c49e0a1a5e1b"
      },
      "execution_count": null,
      "outputs": [
        {
          "output_type": "stream",
          "name": "stdout",
          "text": [
            "Análisis de ventas de productos mas y menos vendidos por tienda\n",
            "\n",
            "Tienda 1: \n",
            "\n",
            " TOP de los 3 productos que dieron más ingresos:\n",
            "  - TV LED UHD 4K: $142150200.00 (Unidades: 60)\n",
            "  - Refrigerador: $112143300.00 (Unidades: 54)\n",
            "  - Iphone 15: $97902200.00 (Unidades: 49)\n",
            "\n",
            " TOP de los 3 productos que dieron menos ingresos:\n",
            "  - Cuerda para saltar: $652800.00 (Unidades: 40)\n",
            "  - Dinosaurio Rex: $688900.00 (Unidades: 40)\n",
            "  - Cubo mágico 8x8: $696900.00 (Unidades: 44)\n",
            " \n",
            "--------------------------------------------------\n",
            "\n",
            "Tienda 2: \n",
            "\n",
            " TOP de los 3 productos que dieron más ingresos:\n",
            "  - Iphone 15: $113225800.00 (Unidades: 55)\n",
            "  - TV LED UHD 4K: $103375000.00 (Unidades: 45)\n",
            "  - Refrigerador: $97632500.00 (Unidades: 49)\n",
            "\n",
            " TOP de los 3 productos que dieron menos ingresos:\n",
            "  - Cubo mágico 8x8: $643600.00 (Unidades: 45)\n",
            "  - Dinosaurio Rex: $770300.00 (Unidades: 42)\n",
            "  - Cuerda para saltar: $856900.00 (Unidades: 50)\n",
            " \n",
            "--------------------------------------------------\n",
            "\n",
            "Tienda 3: \n",
            "\n",
            " TOP de los 3 productos que dieron más ingresos:\n",
            "  - Refrigerador: $99889700.00 (Unidades: 50)\n",
            "  - TV LED UHD 4K: $96669100.00 (Unidades: 42)\n",
            "  - Iphone 15: $93225700.00 (Unidades: 46)\n",
            "\n",
            " TOP de los 3 productos que dieron menos ingresos:\n",
            "  - Cubo mágico 8x8: $640400.00 (Unidades: 44)\n",
            "  - Dinosaurio Rex: $795600.00 (Unidades: 46)\n",
            "  - Cuerda para saltar: $853800.00 (Unidades: 53)\n",
            " \n",
            "--------------------------------------------------\n",
            "\n",
            "Tienda 4: \n",
            "\n",
            " TOP de los 3 productos que dieron más ingresos:\n",
            "  - Iphone 15: $96697500.00 (Unidades: 48)\n",
            "  - TV LED UHD 4K: $90295300.00 (Unidades: 40)\n",
            "  - Smart TV: $82790400.00 (Unidades: 54)\n",
            "\n",
            " TOP de los 3 productos que dieron menos ingresos:\n",
            "  - Cuerda para saltar: $704800.00 (Unidades: 43)\n",
            "  - Cubo mágico 8x8: $748400.00 (Unidades: 47)\n",
            "  - Dinosaurio Rex: $858100.00 (Unidades: 47)\n",
            " \n",
            "--------------------------------------------------\n"
          ]
        }
      ]
    },
    {
      "cell_type": "markdown",
      "source": [
        "# 5. Envío promedio por tienda"
      ],
      "metadata": {
        "id": "Fl0cGi3bZKqU"
      }
    },
    {
      "cell_type": "code",
      "source": [
        "# Funcion para calcular los costos de envíos promedios para cada tienda.\n",
        "def calcular_envio_promedio_adaptado(dataframe_tienda, nombre_tienda):\n",
        "  # Primero, preparo una lista vacía donde voy a guardar todos los costos de envío que encuentre.\n",
        "  costos_envio = []\n",
        "  # Luego, recorro cada una de las filas del DataFrame de la tienda.\n",
        "  # El método .iterrows() me permite procesar cada registro individualmente.\n",
        "  for _, fila in dataframe_tienda.iterrows():\n",
        "    # Para cada fila, intento obtener el 'Costo de envío'.\n",
        "    # Utilizo un bloque try-except para asegurar que mi código sea preciso.\n",
        "    try:\n",
        "      # Convierto el valor de la columna 'Costo de envío' a un número decimal (flotante).\n",
        "      costo_envio = float(fila['Costo de envío'])\n",
        "      # Si la conversión es exitosa, añado este costo a mi lista de costos de envío.\n",
        "      costos_envio.append(costo_envio)\n",
        "      # Si el valor no es un número válido (ValueError) o si la columna 'Costo de envío'\n",
        "      # no existe en alguna fila (KeyError), no hago nada y simplemente paso a la siguiente fila.\n",
        "    except (ValueError, KeyError):\n",
        "      pass\n",
        "  # Después de procesar todas las filas, calculo el promedio de los costos de envío.\n",
        "  # antes de dividir, verifico si la lista 'costos_envio' tiene elementos para evitar un error de división por cero.\n",
        "  # si hay costos, los sumo y divido por la cantidad de costos. Si no hay costos, el promedio es 0.0.\n",
        "  promedio_envio = sum(costos_envio) / len(costos_envio) if costos_envio else 0.0\n",
        "  # Finalmente, imprimo un mensaje mostrando el nombre de la tienda y su costo de envío promedio\n",
        "  print(f\"{nombre_tienda} -> Envío promedio: ${promedio_envio:.2f}\")"
      ],
      "metadata": {
        "id": "S2JeaCykZNy9"
      },
      "execution_count": 18,
      "outputs": []
    },
    {
      "cell_type": "code",
      "source": [
        "print(\"\\nCosto de envío promedio por tienda: \")\n",
        "# Luego, itero sobre cada tienda y su DataFrame correspondiente que tengo en mi diccionario 'tiendas'.\n",
        "for nombre_tienda_actual, df_tienda_actual in tiendas.items():\n",
        "    calcular_envio_promedio_adaptado(df_tienda_actual, nombre_tienda_actual)"
      ],
      "metadata": {
        "id": "0tSdCie9ZQlt",
        "colab": {
          "base_uri": "https://localhost:8080/"
        },
        "outputId": "56922979-ba5f-4a85-a2e7-d9cbfedeb0d5"
      },
      "execution_count": 19,
      "outputs": [
        {
          "output_type": "stream",
          "name": "stdout",
          "text": [
            "\n",
            "Costo de envío promedio por tienda: \n",
            "Tienda 1 -> Envío promedio: $26018.61\n",
            "Tienda 2 -> Envío promedio: $25216.24\n",
            "Tienda 3 -> Envío promedio: $24805.68\n",
            "Tienda 4 -> Envío promedio: $23459.46\n"
          ]
        }
      ]
    }
  ]
}